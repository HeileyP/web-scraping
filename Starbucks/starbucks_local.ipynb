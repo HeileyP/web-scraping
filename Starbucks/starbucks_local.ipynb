{
 "cells": [
  {
   "cell_type": "markdown",
   "id": "4c2abcd8",
   "metadata": {},
   "source": [
    "# 전국 스타벅스 매장 정보 가져오기"
   ]
  },
  {
   "cell_type": "markdown",
   "id": "56924211",
   "metadata": {},
   "source": [
    "# 라이브러리 로드"
   ]
  },
  {
   "cell_type": "code",
   "execution_count": 1,
   "id": "14559c28",
   "metadata": {},
   "outputs": [],
   "source": [
    "# 라이브러리 로드\n",
    "import pandas as pd\n",
    "import numpy as np\n",
    "\n",
    "from bs4 import BeautifulSoup as bs\n",
    "from tqdm import tqdm_notebook\n",
    "from selenium import webdriver\n",
    "# 웹 화면이 로딩될 때까지 기다려주는 모듈\n",
    "from selenium.webdriver.common.by import By\n",
    "from selenium.webdriver.support.ui import WebDriverWait\n",
    "from selenium.webdriver.support import expected_conditions as EC"
   ]
  },
  {
   "cell_type": "markdown",
   "id": "9a204bbf",
   "metadata": {},
   "source": [
    "# HTML 파일 읽어오기\n",
    "html 파일 읽어오기(requests라이브러리, BeautifulSoup라이브러리)"
   ]
  },
  {
   "cell_type": "code",
   "execution_count": 15,
   "id": "b2308dcb",
   "metadata": {
    "collapsed": true
   },
   "outputs": [
    {
     "name": "stderr",
     "output_type": "stream",
     "text": [
      "/var/folders/3t/q5j26dq54hjgz7mhrg40ymbw0000gp/T/ipykernel_27334/2286036863.py:5: DeprecationWarning: executable_path has been deprecated, please pass in a Service object\n",
      "  driver = webdriver.Chrome(\"/Users/jh931201/AI6-likelion/chromedriver\", options=chrome_options)\n"
     ]
    }
   ],
   "source": [
    "# 웹드라이버 설정\n",
    "chrome_options = webdriver.ChromeOptions()\n",
    "# chrome_options.add_argument(\"headless\")\n",
    "\n",
    "driver = webdriver.Chrome(\"**********************************\", options=chrome_options)\n",
    "# 페이지 전체가 로딩되는 시간까지 10초\n",
    "driver.implicitly_wait(10)\n",
    "\n",
    "# 스타벅스 매장 지도 url\n",
    "starbucks_map_url = \"https://www.starbucks.co.kr/store/store_map.do?disp=locale\"\n",
    "driver.get(starbucks_map_url)"
   ]
  },
  {
   "cell_type": "code",
   "execution_count": 4,
   "id": "98c56632",
   "metadata": {},
   "outputs": [],
   "source": [
    "# 스타벅스 서울\n",
    "starbucks_seoul_css = \"#container > div > form > fieldset > div > section > article.find_store_cont > article > article:nth-child(4) > div.loca_step1 > div.loca_step1_cont > ul > li:nth-child(1) > a\"\n",
    "WebDriverWait(driver, 5).until(EC.presence_of_element_located((By.CSS_SELECTOR, starbucks_seoul_css))).click()"
   ]
  },
  {
   "cell_type": "markdown",
   "id": "bea195c3",
   "metadata": {},
   "source": [
    "## 스타벅스 서울 매장 위치 HTML 읽어오기"
   ]
  },
  {
   "cell_type": "code",
   "execution_count": 5,
   "id": "d04dbcbc",
   "metadata": {},
   "outputs": [],
   "source": [
    "# 스타벅스 서울 전체 클릭\n",
    "starbucks_seoul_all_css = \"#mCSB_2_container > ul > li:nth-child(1) > a\"\n",
    "WebDriverWait(driver, 5).until(EC.presence_of_element_located((By.CSS_SELECTOR, starbucks_seoul_all_css))).click()"
   ]
  },
  {
   "cell_type": "code",
   "execution_count": 6,
   "id": "9d69ed2a",
   "metadata": {},
   "outputs": [],
   "source": [
    "# 스타벅스 서울 전체 HTML 파싱\n",
    "html = driver.page_source\n",
    "soup = bs(html, \"lxml\")"
   ]
  },
  {
   "cell_type": "code",
   "execution_count": 7,
   "id": "ddb4b66b",
   "metadata": {},
   "outputs": [
    {
     "data": {
      "text/plain": [
       "<li class=\"quickResultLstCon\" data-code=\"3762\" data-hlytag=\"null\" data-index=\"0\" data-lat=\"37.501087\" data-long=\"127.043069\" data-name=\"역삼아레나빌딩\" data-storecd=\"1509\" style=\"background:#fff\"> <strong data-my_siren_order_store_yn=\"N\" data-name=\"역삼아레나빌딩\" data-store=\"1509\" data-yn=\"N\">역삼아레나빌딩  </strong> <p class=\"result_details\">서울특별시 강남구 언주로 425 (역삼동)<br/>1522-3232</p> <i class=\"pin_general\">리저브 매장 2번</i></li>"
      ]
     },
     "execution_count": 7,
     "metadata": {},
     "output_type": "execute_result"
    }
   ],
   "source": [
    "li_all = soup.select(\"#mCSB_3_container > ul > li\")\n",
    "li_all[0]"
   ]
  },
  {
   "cell_type": "code",
   "execution_count": 8,
   "id": "1ddcb9f5",
   "metadata": {},
   "outputs": [],
   "source": [
    "starbucks_data = []\n",
    "\n",
    "for li in li_all:\n",
    "    name = li.find(\"strong\").text.strip()\n",
    "    address = li.find(\"p\").text.strip().replace(\"1522-3232\", \"\")\n",
    "    city = address.split(\" \")[0]\n",
    "    gu = address.split(\" \")[1]\n",
    "    load = address.split(\" \", 2)[2]\n",
    "#     print(name, address, gu, sep=\" | \")\n",
    "    each = {\n",
    "        \"매장이름\": name,\n",
    "        \"시\": city,\n",
    "        \"구\": gu,\n",
    "        \"도로명주소\": load\n",
    "    }\n",
    "    starbucks_data.append(each)"
   ]
  },
  {
   "cell_type": "code",
   "execution_count": 9,
   "id": "9ce9f17a",
   "metadata": {},
   "outputs": [
    {
     "data": {
      "text/plain": [
       "578"
      ]
     },
     "execution_count": 9,
     "metadata": {},
     "output_type": "execute_result"
    }
   ],
   "source": [
    "len(starbucks_data)"
   ]
  },
  {
   "cell_type": "code",
   "execution_count": 10,
   "id": "378f9900",
   "metadata": {},
   "outputs": [
    {
     "data": {
      "text/html": [
       "<div>\n",
       "<style scoped>\n",
       "    .dataframe tbody tr th:only-of-type {\n",
       "        vertical-align: middle;\n",
       "    }\n",
       "\n",
       "    .dataframe tbody tr th {\n",
       "        vertical-align: top;\n",
       "    }\n",
       "\n",
       "    .dataframe thead th {\n",
       "        text-align: right;\n",
       "    }\n",
       "</style>\n",
       "<table border=\"1\" class=\"dataframe\">\n",
       "  <thead>\n",
       "    <tr style=\"text-align: right;\">\n",
       "      <th></th>\n",
       "      <th>매장이름</th>\n",
       "      <th>시</th>\n",
       "      <th>구</th>\n",
       "      <th>도로명주소</th>\n",
       "    </tr>\n",
       "  </thead>\n",
       "  <tbody>\n",
       "    <tr>\n",
       "      <th>573</th>\n",
       "      <td>중랑구청</td>\n",
       "      <td>서울특별시</td>\n",
       "      <td>중랑구</td>\n",
       "      <td>신내로 72</td>\n",
       "    </tr>\n",
       "    <tr>\n",
       "      <th>574</th>\n",
       "      <td>사가정역</td>\n",
       "      <td>서울특별시</td>\n",
       "      <td>중랑구</td>\n",
       "      <td>면목로 310</td>\n",
       "    </tr>\n",
       "    <tr>\n",
       "      <th>575</th>\n",
       "      <td>상봉역</td>\n",
       "      <td>서울특별시</td>\n",
       "      <td>중랑구</td>\n",
       "      <td>망우로 307 (상봉동)</td>\n",
       "    </tr>\n",
       "    <tr>\n",
       "      <th>576</th>\n",
       "      <td>묵동</td>\n",
       "      <td>서울특별시</td>\n",
       "      <td>중랑구</td>\n",
       "      <td>동일로 952 (묵동, 로프트원 태릉입구역) 1층</td>\n",
       "    </tr>\n",
       "    <tr>\n",
       "      <th>577</th>\n",
       "      <td>중화역</td>\n",
       "      <td>서울특별시</td>\n",
       "      <td>중랑구</td>\n",
       "      <td>봉화산로 35 1,2층</td>\n",
       "    </tr>\n",
       "  </tbody>\n",
       "</table>\n",
       "</div>"
      ],
      "text/plain": [
       "     매장이름      시    구                        도로명주소\n",
       "573  중랑구청  서울특별시  중랑구                       신내로 72\n",
       "574  사가정역  서울특별시  중랑구                      면목로 310\n",
       "575   상봉역  서울특별시  중랑구                망우로 307 (상봉동)\n",
       "576    묵동  서울특별시  중랑구  동일로 952 (묵동, 로프트원 태릉입구역) 1층\n",
       "577   중화역  서울특별시  중랑구                 봉화산로 35 1,2층"
      ]
     },
     "execution_count": 10,
     "metadata": {},
     "output_type": "execute_result"
    }
   ],
   "source": [
    "df_starbucks = pd.DataFrame(starbucks_data)\n",
    "df_starbucks.tail()"
   ]
  },
  {
   "cell_type": "code",
   "execution_count": 11,
   "id": "139ee168",
   "metadata": {},
   "outputs": [
    {
     "data": {
      "text/html": [
       "<div>\n",
       "<style scoped>\n",
       "    .dataframe tbody tr th:only-of-type {\n",
       "        vertical-align: middle;\n",
       "    }\n",
       "\n",
       "    .dataframe tbody tr th {\n",
       "        vertical-align: top;\n",
       "    }\n",
       "\n",
       "    .dataframe thead th {\n",
       "        text-align: right;\n",
       "    }\n",
       "</style>\n",
       "<table border=\"1\" class=\"dataframe\">\n",
       "  <thead>\n",
       "    <tr style=\"text-align: right;\">\n",
       "      <th></th>\n",
       "      <th>매장이름</th>\n",
       "      <th>시</th>\n",
       "      <th>구</th>\n",
       "      <th>도로명주소</th>\n",
       "    </tr>\n",
       "  </thead>\n",
       "  <tbody>\n",
       "    <tr>\n",
       "      <th>count</th>\n",
       "      <td>578</td>\n",
       "      <td>578</td>\n",
       "      <td>578</td>\n",
       "      <td>578</td>\n",
       "    </tr>\n",
       "    <tr>\n",
       "      <th>unique</th>\n",
       "      <td>578</td>\n",
       "      <td>1</td>\n",
       "      <td>25</td>\n",
       "      <td>573</td>\n",
       "    </tr>\n",
       "    <tr>\n",
       "      <th>top</th>\n",
       "      <td>역삼아레나빌딩</td>\n",
       "      <td>서울특별시</td>\n",
       "      <td>강남구</td>\n",
       "      <td>경인로 662 (신도림동)</td>\n",
       "    </tr>\n",
       "    <tr>\n",
       "      <th>freq</th>\n",
       "      <td>1</td>\n",
       "      <td>578</td>\n",
       "      <td>88</td>\n",
       "      <td>2</td>\n",
       "    </tr>\n",
       "  </tbody>\n",
       "</table>\n",
       "</div>"
      ],
      "text/plain": [
       "           매장이름      시    구           도로명주소\n",
       "count       578    578  578             578\n",
       "unique      578      1   25             573\n",
       "top     역삼아레나빌딩  서울특별시  강남구  경인로 662 (신도림동)\n",
       "freq          1    578   88               2"
      ]
     },
     "execution_count": 11,
     "metadata": {},
     "output_type": "execute_result"
    }
   ],
   "source": [
    "df_starbucks.describe()"
   ]
  },
  {
   "cell_type": "code",
   "execution_count": 12,
   "id": "57e128e7",
   "metadata": {},
   "outputs": [
    {
     "name": "stdout",
     "output_type": "stream",
     "text": [
      "<class 'pandas.core.frame.DataFrame'>\n",
      "RangeIndex: 578 entries, 0 to 577\n",
      "Data columns (total 4 columns):\n",
      " #   Column  Non-Null Count  Dtype \n",
      "---  ------  --------------  ----- \n",
      " 0   매장이름    578 non-null    object\n",
      " 1   시       578 non-null    object\n",
      " 2   구       578 non-null    object\n",
      " 3   도로명주소   578 non-null    object\n",
      "dtypes: object(4)\n",
      "memory usage: 18.2+ KB\n"
     ]
    }
   ],
   "source": [
    "df_starbucks.info()"
   ]
  },
  {
   "cell_type": "markdown",
   "id": "1a554f43",
   "metadata": {},
   "source": [
    "# 파일로 저장하기"
   ]
  },
  {
   "cell_type": "code",
   "execution_count": 13,
   "id": "10250751",
   "metadata": {},
   "outputs": [
    {
     "data": {
      "text/html": [
       "<div>\n",
       "<style scoped>\n",
       "    .dataframe tbody tr th:only-of-type {\n",
       "        vertical-align: middle;\n",
       "    }\n",
       "\n",
       "    .dataframe tbody tr th {\n",
       "        vertical-align: top;\n",
       "    }\n",
       "\n",
       "    .dataframe thead th {\n",
       "        text-align: right;\n",
       "    }\n",
       "</style>\n",
       "<table border=\"1\" class=\"dataframe\">\n",
       "  <thead>\n",
       "    <tr style=\"text-align: right;\">\n",
       "      <th></th>\n",
       "      <th>매장이름</th>\n",
       "      <th>시</th>\n",
       "      <th>구</th>\n",
       "      <th>도로명주소</th>\n",
       "    </tr>\n",
       "  </thead>\n",
       "  <tbody>\n",
       "    <tr>\n",
       "      <th>0</th>\n",
       "      <td>역삼아레나빌딩</td>\n",
       "      <td>서울특별시</td>\n",
       "      <td>강남구</td>\n",
       "      <td>언주로 425 (역삼동)</td>\n",
       "    </tr>\n",
       "    <tr>\n",
       "      <th>1</th>\n",
       "      <td>논현역사거리</td>\n",
       "      <td>서울특별시</td>\n",
       "      <td>강남구</td>\n",
       "      <td>강남대로 538 (논현동)</td>\n",
       "    </tr>\n",
       "    <tr>\n",
       "      <th>2</th>\n",
       "      <td>신사역성일빌딩</td>\n",
       "      <td>서울특별시</td>\n",
       "      <td>강남구</td>\n",
       "      <td>강남대로 584 (논현동)</td>\n",
       "    </tr>\n",
       "    <tr>\n",
       "      <th>3</th>\n",
       "      <td>국기원사거리</td>\n",
       "      <td>서울특별시</td>\n",
       "      <td>강남구</td>\n",
       "      <td>테헤란로 125 (역삼동)</td>\n",
       "    </tr>\n",
       "    <tr>\n",
       "      <th>4</th>\n",
       "      <td>대치재경빌딩R</td>\n",
       "      <td>서울특별시</td>\n",
       "      <td>강남구</td>\n",
       "      <td>남부순환로 2947 (대치동)</td>\n",
       "    </tr>\n",
       "    <tr>\n",
       "      <th>...</th>\n",
       "      <td>...</td>\n",
       "      <td>...</td>\n",
       "      <td>...</td>\n",
       "      <td>...</td>\n",
       "    </tr>\n",
       "    <tr>\n",
       "      <th>573</th>\n",
       "      <td>중랑구청</td>\n",
       "      <td>서울특별시</td>\n",
       "      <td>중랑구</td>\n",
       "      <td>신내로 72</td>\n",
       "    </tr>\n",
       "    <tr>\n",
       "      <th>574</th>\n",
       "      <td>사가정역</td>\n",
       "      <td>서울특별시</td>\n",
       "      <td>중랑구</td>\n",
       "      <td>면목로 310</td>\n",
       "    </tr>\n",
       "    <tr>\n",
       "      <th>575</th>\n",
       "      <td>상봉역</td>\n",
       "      <td>서울특별시</td>\n",
       "      <td>중랑구</td>\n",
       "      <td>망우로 307 (상봉동)</td>\n",
       "    </tr>\n",
       "    <tr>\n",
       "      <th>576</th>\n",
       "      <td>묵동</td>\n",
       "      <td>서울특별시</td>\n",
       "      <td>중랑구</td>\n",
       "      <td>동일로 952 (묵동, 로프트원 태릉입구역) 1층</td>\n",
       "    </tr>\n",
       "    <tr>\n",
       "      <th>577</th>\n",
       "      <td>중화역</td>\n",
       "      <td>서울특별시</td>\n",
       "      <td>중랑구</td>\n",
       "      <td>봉화산로 35 1,2층</td>\n",
       "    </tr>\n",
       "  </tbody>\n",
       "</table>\n",
       "<p>578 rows × 4 columns</p>\n",
       "</div>"
      ],
      "text/plain": [
       "        매장이름      시    구                        도로명주소\n",
       "0    역삼아레나빌딩  서울특별시  강남구                언주로 425 (역삼동)\n",
       "1     논현역사거리  서울특별시  강남구               강남대로 538 (논현동)\n",
       "2    신사역성일빌딩  서울특별시  강남구               강남대로 584 (논현동)\n",
       "3     국기원사거리  서울특별시  강남구               테헤란로 125 (역삼동)\n",
       "4    대치재경빌딩R  서울특별시  강남구             남부순환로 2947 (대치동)\n",
       "..       ...    ...  ...                          ...\n",
       "573     중랑구청  서울특별시  중랑구                       신내로 72\n",
       "574     사가정역  서울특별시  중랑구                      면목로 310\n",
       "575      상봉역  서울특별시  중랑구                망우로 307 (상봉동)\n",
       "576       묵동  서울특별시  중랑구  동일로 952 (묵동, 로프트원 태릉입구역) 1층\n",
       "577      중화역  서울특별시  중랑구                 봉화산로 35 1,2층\n",
       "\n",
       "[578 rows x 4 columns]"
      ]
     },
     "execution_count": 13,
     "metadata": {},
     "output_type": "execute_result"
    }
   ],
   "source": [
    "# 저장할 파일명\n",
    "file_name = \"starbucks_seoul_local.csv\"\n",
    "# CSV 파일로 저장하기\n",
    "df_starbucks.to_csv(file_name, index=False)\n",
    "# 저장한 파일 확인\n",
    "pd.read_csv(file_name)"
   ]
  },
  {
   "cell_type": "code",
   "execution_count": null,
   "id": "01845f5a",
   "metadata": {},
   "outputs": [],
   "source": []
  }
 ],
 "metadata": {
  "kernelspec": {
   "display_name": "Python 3 (ipykernel)",
   "language": "python",
   "name": "python3"
  },
  "language_info": {
   "codemirror_mode": {
    "name": "ipython",
    "version": 3
   },
   "file_extension": ".py",
   "mimetype": "text/x-python",
   "name": "python",
   "nbconvert_exporter": "python",
   "pygments_lexer": "ipython3",
   "version": "3.9.7"
  }
 },
 "nbformat": 4,
 "nbformat_minor": 5
}
