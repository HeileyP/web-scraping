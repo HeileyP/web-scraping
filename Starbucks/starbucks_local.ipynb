{
 "cells": [
  {
   "cell_type": "markdown",
   "id": "4c2abcd8",
   "metadata": {},
   "source": [
    "# 전국 스타벅스 매장 정보 가져오기"
   ]
  },
  {
   "cell_type": "markdown",
   "id": "56924211",
   "metadata": {},
   "source": [
    "# 라이브러리 로드"
   ]
  },
  {
   "cell_type": "code",
   "execution_count": null,
   "id": "14559c28",
   "metadata": {},
   "outputs": [],
   "source": [
    "# 라이브러리 로드\n",
    "import pandas as pd\n",
    "import numpy as np\n",
    "\n",
    "from bs4 import BeautifulSoup as bs\n",
    "from tqdm import tqdm_notebook\n",
    "from selenium import webdriver\n",
    "# 웹 화면이 로딩될 때까지 기다려주는 모듈\n",
    "from selenium.webdriver.common.by import By\n",
    "from selenium.webdriver.support.ui import WebDriverWait\n",
    "from selenium.webdriver.support import expected_conditions as EC"
   ]
  },
  {
   "cell_type": "markdown",
   "id": "9a204bbf",
   "metadata": {},
   "source": [
    "# HTML 파일 읽어오기\n",
    "html 파일 읽어오기(requests라이브러리, BeautifulSoup라이브러리)"
   ]
  },
  {
   "cell_type": "code",
   "execution_count": null,
   "id": "b2308dcb",
   "metadata": {},
   "outputs": [],
   "source": [
    "# 웹드라이버 설정\n",
    "chrome_options = webdriver.ChromeOptions()\n",
    "# chrome_options.add_argument(\"headless\")\n",
    "\n",
    "driver = webdriver.Chrome(\"**********************************\", options=chrome_options)\n",
    "# 페이지 전체가 로딩되는 시간까지 10초\n",
    "driver.implicitly_wait(10)\n",
    "\n",
    "# 스타벅스 매장 지도 url\n",
    "starbucks_map_url = \"https://www.starbucks.co.kr/store/store_map.do?disp=locale\"\n",
    "driver.get(starbucks_map_url)"
   ]
  },
  {
   "cell_type": "code",
   "execution_count": null,
   "id": "98c56632",
   "metadata": {},
   "outputs": [],
   "source": [
    "# 스타벅스 서울\n",
    "starbucks_seoul_css = \"#container > div > form > fieldset > div > section > article.find_store_cont > article > article:nth-child(4) > div.loca_step1 > div.loca_step1_cont > ul > li:nth-child(1) > a\"\n",
    "WebDriverWait(driver, 5).until(EC.presence_of_element_located((By.CSS_SELECTOR, starbucks_seoul_css))).click()"
   ]
  },
  {
   "cell_type": "markdown",
   "id": "dea2bbb2",
   "metadata": {},
   "source": [
    "## 스타벅스 서울 매장 위치 HTML 읽어오기"
   ]
  },
  {
   "cell_type": "code",
   "execution_count": null,
   "id": "d04dbcbc",
   "metadata": {},
   "outputs": [],
   "source": [
    "# 스타벅스 서울 전체 클릭\n",
    "starbucks_seoul_all_css = \"#mCSB_2_container > ul > li:nth-child(1) > a\"\n",
    "WebDriverWait(driver, 5).until(EC.presence_of_element_located((By.CSS_SELECTOR, starbucks_seoul_all_css))).click()"
   ]
  },
  {
   "cell_type": "code",
   "execution_count": null,
   "id": "9d69ed2a",
   "metadata": {},
   "outputs": [],
   "source": [
    "# 스타벅스 서울 전체 HTML 파싱\n",
    "html = driver.page_source\n",
    "soup = bs(html, \"lxml\")"
   ]
  },
  {
   "cell_type": "code",
   "execution_count": null,
   "id": "ddb4b66b",
   "metadata": {},
   "outputs": [],
   "source": [
    "li_all = soup.select(\"#mCSB_3_container > ul > li\")\n",
    "li_all[0]"
   ]
  },
  {
   "cell_type": "code",
   "execution_count": null,
   "id": "1ddcb9f5",
   "metadata": {},
   "outputs": [],
   "source": [
    "starbucks_data = []\n",
    "\n",
    "for li in li_all:\n",
    "    name = li.find(\"strong\").text.strip()\n",
    "    address = li.find(\"p\").text.strip().replace(\"1522-3232\", \"\")\n",
    "    city = address.split(\" \")[0]\n",
    "    gu = address.split(\" \")[1]\n",
    "    load = address.split(\" \", 2)[2]\n",
    "#     print(name, address, gu, sep=\" | \")\n",
    "    each = {\n",
    "        \"매장이름\": name,\n",
    "        \"시\": city,\n",
    "        \"구\": gu,\n",
    "        \"도로명주소\": load\n",
    "    }\n",
    "    starbucks_data.append(each)"
   ]
  },
  {
   "cell_type": "code",
   "execution_count": null,
   "id": "9ce9f17a",
   "metadata": {},
   "outputs": [],
   "source": [
    "len(starbucks_data)"
   ]
  },
  {
   "cell_type": "code",
   "execution_count": null,
   "id": "378f9900",
   "metadata": {},
   "outputs": [],
   "source": [
    "df_starbucks = pd.DataFrame(starbucks_data)\n",
    "df_starbucks.tail()"
   ]
  },
  {
   "cell_type": "code",
   "execution_count": null,
   "id": "139ee168",
   "metadata": {},
   "outputs": [],
   "source": [
    "df_starbucks.describe()"
   ]
  },
  {
   "cell_type": "code",
   "execution_count": null,
   "id": "57e128e7",
   "metadata": {},
   "outputs": [],
   "source": [
    "df_starbucks.info()"
   ]
  },
  {
   "cell_type": "markdown",
   "id": "1a554f43",
   "metadata": {},
   "source": [
    "# 파일로 저장하기"
   ]
  },
  {
   "cell_type": "code",
   "execution_count": null,
   "id": "10250751",
   "metadata": {},
   "outputs": [],
   "source": [
    "# 저장할 파일명\n",
    "file_name = \"starbucks_seoul_local.csv\"\n",
    "# CSV 파일로 저장하기\n",
    "df_starbucks.to_csv(file_name, index=False)\n",
    "# 저장한 파일 확인\n",
    "pd.read_csv(file_name)"
   ]
  },
  {
   "cell_type": "code",
   "execution_count": null,
   "id": "4e45e9d1",
   "metadata": {},
   "outputs": [],
   "source": []
  }
 ],
 "metadata": {
  "kernelspec": {
   "display_name": "Python 3 (ipykernel)",
   "language": "python",
   "name": "python3"
  },
  "language_info": {
   "codemirror_mode": {
    "name": "ipython",
    "version": 3
   },
   "file_extension": ".py",
   "mimetype": "text/x-python",
   "name": "python",
   "nbconvert_exporter": "python",
   "pygments_lexer": "ipython3",
   "version": "3.9.7"
  }
 },
 "nbformat": 4,
 "nbformat_minor": 5
}
