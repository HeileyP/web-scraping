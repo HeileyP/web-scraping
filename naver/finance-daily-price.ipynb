{
 "cells": [
  {
   "cell_type": "markdown",
   "id": "9d05e4a9",
   "metadata": {},
   "source": [
    "# 금융 개별종목 수집\n",
    "* html 파일 읽어오기(requests라이브러리, BeautifulSoup라이브러리)\n",
    "* 결측 데이터 제거하기\n",
    "* 데이터 프레임합치기\n",
    "* 중복데이터 제거하기\n",
    "* 날짜 column의 첫 row값 확인\n",
    "* 파일로 저장하고 읽어오기"
   ]
  },
  {
   "cell_type": "markdown",
   "id": "e1d8ab7b",
   "metadata": {},
   "source": [
    "##  라이브러리 로드"
   ]
  },
  {
   "cell_type": "code",
   "execution_count": 1,
   "id": "de11f06c",
   "metadata": {},
   "outputs": [],
   "source": [
    "# 라이브러리 로드\n",
    "import pandas as pd\n",
    "import numpy as np\n",
    "import requests\n",
    "from bs4 import BeautifulSoup as bs"
   ]
  },
  {
   "cell_type": "markdown",
   "id": "c11d9fb6",
   "metadata": {},
   "source": [
    "## html 파일 읽어오기"
   ]
  },
  {
   "cell_type": "code",
   "execution_count": 3,
   "id": "81bf9660",
   "metadata": {},
   "outputs": [],
   "source": [
    "# 종목 URL\n",
    "item_code = \"373220\"\n",
    "page_no = 1\n",
    "url = f\"https://finance.naver.com/item/sise_day.naver?code={item_code}&page={page_no}\""
   ]
  },
  {
   "cell_type": "code",
   "execution_count": null,
   "id": "3344a7bd",
   "metadata": {},
   "outputs": [],
   "source": [
    "# User-Agent 인증 (브라우저 인증)\n",
    "headers = {\"user-agent\": \"Mozilla/5.0 (Macintosh; Intel Mac OS X 10_15_7) AppleWebKit/537.36 (KHTML, like Gecko) Chrome/101.0.4951.54 Safari/537.36\"}\n",
    "print(headers[\"user-agent\"])"
   ]
  },
  {
   "cell_type": "code",
   "execution_count": null,
   "id": "e504e8c8",
   "metadata": {},
   "outputs": [],
   "source": [
    "# requests로 html 요청\n",
    "response = requests.get(url, headers=headers)\n",
    "response.status_code"
   ]
  },
  {
   "cell_type": "code",
   "execution_count": null,
   "id": "037dbb10",
   "metadata": {},
   "outputs": [],
   "source": [
    "# BeautifulSoup으로 html 파싱\n",
    "html = bs(response.text, 'lxml')\n",
    "html"
   ]
  },
  {
   "cell_type": "code",
   "execution_count": null,
   "id": "2bcea635",
   "metadata": {},
   "outputs": [],
   "source": [
    "tables = html.find_all('table')\n",
    "tables"
   ]
  },
  {
   "cell_type": "markdown",
   "id": "a421ffd8",
   "metadata": {},
   "source": [
    "## pandas의 read_html로 값을 데이터프레임으로 수집하기"
   ]
  },
  {
   "cell_type": "code",
   "execution_count": null,
   "id": "38b79750",
   "metadata": {},
   "outputs": [],
   "source": [
    "# 네이버의 일별 시세는 cp949 인코딩\n",
    "table = pd.read_html(str(tables), encoding=\"cp949\")\n",
    "table"
   ]
  },
  {
   "cell_type": "markdown",
   "id": "ea71d17c",
   "metadata": {},
   "source": [
    "## 결측 데이터 제거"
   ]
  },
  {
   "cell_type": "code",
   "execution_count": null,
   "id": "3ebba311",
   "metadata": {},
   "outputs": [],
   "source": [
    "# dropna를 통해 결측치가 들어있는 row 제거\n",
    "temp = table[0].dropna()\n",
    "temp"
   ]
  },
  {
   "cell_type": "markdown",
   "id": "fc358114",
   "metadata": {},
   "source": [
    "# 전체 일자 데이터 수집하기"
   ]
  },
  {
   "cell_type": "code",
   "execution_count": null,
   "id": "7b887ee9",
   "metadata": {},
   "outputs": [],
   "source": [
    "# 페이지별 데이터 수집 함수 만들기\n",
    "def get_day_list(item_code, page_no):\n",
    "    \"\"\"\n",
    "    일자별 시세를 페이지별로 수집\n",
    "    \"\"\" \n",
    "    url = f\"https://finance.naver.com/item/sise_day.naver?code={item_code}&page={page_no}\"\n",
    "    headers = {\"user-agent\": \"Mozilla/5.0 (Macintosh; Intel Mac OS X 10_15_7) AppleWebKit/537.36 (KHTML, like Gecko) Chrome/101.0.4951.54 Safari/537.36\"}\n",
    "    \n",
    "    response = requests.get(url, headers=headers)\n",
    "    \n",
    "    html = bs(response.text, 'lxml')\n",
    "    tables = html.select('table')\n",
    "    table = pd.read_html(str(tables), encoding=\"cp949\")\n",
    "    temp = table[0].dropna()\n",
    "    \n",
    "    return temp"
   ]
  },
  {
   "cell_type": "code",
   "execution_count": null,
   "id": "cfdf01b2",
   "metadata": {},
   "outputs": [],
   "source": [
    "# 반복문을 통한 전체 일자 데이터 수집하기\n",
    "import time\n",
    "# web page 시작번호\n",
    "page_no = 1\n",
    "#데이터를 저장할 빈 변수 선언\n",
    "item_list = []\n",
    "item_code = \"373220\"\n",
    "item_name = \"LG에너지솔루션\"\n",
    "\n",
    "prev = \"\"\n",
    "\n",
    "while True:\n",
    "    print(page_no)\n",
    "    \n",
    "    df_one_page = get_day_list(item_code, page_no)\n",
    "    # 마지막 날짜를 가져옴\n",
    "    curr = df_one_page.iloc[-1, 0]\n",
    "    # 마지막 날짜를 비교했을 때 같으면 반복문을 종료\n",
    "    if curr == prev:\n",
    "        break\n",
    "    \n",
    "    item_list.append(df_one_page)\n",
    "    page_no = page_no + 1\n",
    "    prev = curr"
   ]
  },
  {
   "cell_type": "code",
   "execution_count": null,
   "id": "5c6bc6ed",
   "metadata": {},
   "outputs": [],
   "source": [
    "# 데이터프레임으로 합치기\n",
    "df = pd.concat(item_list)"
   ]
  },
  {
   "cell_type": "code",
   "execution_count": null,
   "id": "3a6b253c",
   "metadata": {},
   "outputs": [],
   "source": [
    "# 종목코드, 종목명 컬럼 추가\n",
    "df[\"종목코드\"] = item_code\n",
    "df[\"종목명\"] = item_name\n",
    "df.head()"
   ]
  },
  {
   "cell_type": "code",
   "execution_count": null,
   "id": "ba658877",
   "metadata": {},
   "outputs": [],
   "source": [
    "# 컬럼 순서 변경하기\n",
    "cols = ['종목코드', '종목명', '날짜', '종가', '전일비', '시가', '고가', '저가', '거래량']\n",
    "df = df[cols]\n",
    "df.head()"
   ]
  },
  {
   "cell_type": "code",
   "execution_count": null,
   "id": "88fd3825",
   "metadata": {},
   "outputs": [],
   "source": [
    "# 중복데이터 제거하기\n",
    "df.drop_duplicates()"
   ]
  },
  {
   "cell_type": "code",
   "execution_count": null,
   "id": "22d2f252",
   "metadata": {},
   "outputs": [],
   "source": [
    "# 중복데이터가 있는지 확인하기\n",
    "df.duplicated().sum()"
   ]
  },
  {
   "cell_type": "code",
   "execution_count": null,
   "id": "f1a3538a",
   "metadata": {},
   "outputs": [],
   "source": [
    "# 기술통계값 구하기\n",
    "df.describe()"
   ]
  },
  {
   "cell_type": "code",
   "execution_count": null,
   "id": "eea1dbb9",
   "metadata": {},
   "outputs": [],
   "source": [
    "item_list = []\n",
    "item_code = \"373220\"\n",
    "item_name = \"LG에너지솔루션\""
   ]
  },
  {
   "cell_type": "code",
   "execution_count": null,
   "id": "0362c82a",
   "metadata": {},
   "outputs": [],
   "source": [
    "def get_item_list(item_code, item_name):\n",
    "    \"\"\"\n",
    "    일별 시세를 수집하는 함수\n",
    "    \"\"\"\n",
    "    page_no = 1\n",
    "    # 데이터를 저장할 빈 변수 선언\n",
    "    item_list = []\n",
    "    prev = \"\"\n",
    "\n",
    "    while True:\n",
    "        df_one_page = get_day_list(item_code, page_no)\n",
    "        # 마지막 날짜를 가져옴\n",
    "        curr = df_one_page.iloc[-1, 0]\n",
    "        # 마지막 날짜를 비교했을 때 같으면 반복문을 종료\n",
    "        if curr == prev:\n",
    "            print(f'{page_no}쪽 완료')\n",
    "            break\n",
    "\n",
    "        item_list.append(df_one_page)\n",
    "        \n",
    "        # 짝수 페이지에서만 * 를 출력하게\n",
    "        if page_no % 2 == 0:\n",
    "            print(\"*\", end=\"\")\n",
    "            \n",
    "        page_no = page_no + 1\n",
    "        # 현재 날짜를 이전 날짜 변수에 담아서 다음번에 비교합니다.\n",
    "        prev = curr\n",
    "    \n",
    "    # 수집한 내용을 하나로 합치기\n",
    "    df = pd.concat(item_list)\n",
    "    # 파일명을 위해 마지막 날짜 가져오기\n",
    "    date = df.iloc[0]['날짜']\n",
    "    # 파일명 만들기\n",
    "    file_name = f\"news_{item_code}_{item_name}_{date}.csv\"\n",
    "    # 파일로 저장하기\n",
    "    df.to_csv(file_name, index=False)\n",
    "    \n",
    "    return df\n",
    "    "
   ]
  },
  {
   "cell_type": "code",
   "execution_count": null,
   "id": "2b70c512",
   "metadata": {
    "scrolled": true
   },
   "outputs": [],
   "source": [
    "get_item_list(item_code, item_name)"
   ]
  },
  {
   "cell_type": "markdown",
   "id": "af8ac399",
   "metadata": {},
   "source": [
    "# 파일로 저장하기"
   ]
  },
  {
   "cell_type": "code",
   "execution_count": null,
   "id": "d7e5f0c4",
   "metadata": {},
   "outputs": [],
   "source": [
    "# 날짜 컬럼\n",
    "# date\n",
    "date = df.iloc[0]['날짜']"
   ]
  },
  {
   "cell_type": "code",
   "execution_count": null,
   "id": "570e4141",
   "metadata": {},
   "outputs": [],
   "source": [
    "# 파일명 만들기\n",
    "file_name = f\"news_{item_code}_{item_name}_{date}.csv\"\n",
    "\n",
    "# 파일로 저장하기\n",
    "df.to_csv(file_name, index=False)"
   ]
  },
  {
   "cell_type": "code",
   "execution_count": null,
   "id": "fef14cbb",
   "metadata": {},
   "outputs": [],
   "source": [
    "# 저장된 파일 확인하기\n",
    "pd.read_csv('news_373220_LG에너지솔루션_2022.05.18.csv')"
   ]
  }
 ],
 "metadata": {
  "kernelspec": {
   "display_name": "Python 3 (ipykernel)",
   "language": "python",
   "name": "python3"
  },
  "language_info": {
   "codemirror_mode": {
    "name": "ipython",
    "version": 3
   },
   "file_extension": ".py",
   "mimetype": "text/x-python",
   "name": "python",
   "nbconvert_exporter": "python",
   "pygments_lexer": "ipython3",
   "version": "3.9.7"
  }
 },
 "nbformat": 4,
 "nbformat_minor": 5
}
