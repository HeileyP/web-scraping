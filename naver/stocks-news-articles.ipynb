{
 "cells": [
  {
   "cell_type": "markdown",
   "id": "610e8350",
   "metadata": {},
   "source": [
    "# pandas만으로 데이터 수집하기"
   ]
  },
  {
   "cell_type": "code",
   "execution_count": 1,
   "id": "018066ea",
   "metadata": {},
   "outputs": [],
   "source": [
    "# pandas 불러오기\n",
    "import pandas as pd"
   ]
  },
  {
   "cell_type": "markdown",
   "id": "4353cc38",
   "metadata": {},
   "source": [
    "## 검색 값 설정하기"
   ]
  },
  {
   "cell_type": "code",
   "execution_count": 2,
   "id": "cd365372",
   "metadata": {},
   "outputs": [],
   "source": [
    "# 수집할 url을 가져옵니다.\n",
    "item_code = \"005930\"\n",
    "item_name = \"삼성전자\"\n",
    "page_no = 1"
   ]
  },
  {
   "cell_type": "code",
   "execution_count": 3,
   "id": "5ec837a1",
   "metadata": {},
   "outputs": [
    {
     "name": "stdout",
     "output_type": "stream",
     "text": [
      "https://finance.naver.com/item/news_news.naver?code=005930&page=1&sm=title_entity_id.basic&clusterId=\n"
     ]
    }
   ],
   "source": [
    "# url\n",
    "url = f\"https://finance.naver.com/item/news_news.naver?code={item_code}&page={page_no}&sm=title_entity_id.basic&clusterId=\"\n",
    "print(url)"
   ]
  },
  {
   "cell_type": "markdown",
   "id": "2e58ba7f",
   "metadata": {},
   "source": [
    "## read_html 로 수집하기\n",
    "* 네이버 금융의 주가 기사를 read_html로 수집해서 table 이라는 변수에 담습니다."
   ]
  }
 ],
 "metadata": {
  "kernelspec": {
   "display_name": "Python 3 (ipykernel)",
   "language": "python",
   "name": "python3"
  },
  "language_info": {
   "codemirror_mode": {
    "name": "ipython",
    "version": 3
   },
   "file_extension": ".py",
   "mimetype": "text/x-python",
   "name": "python",
   "nbconvert_exporter": "python",
   "pygments_lexer": "ipython3",
   "version": "3.9.7"
  }
 },
 "nbformat": 4,
 "nbformat_minor": 5
}
